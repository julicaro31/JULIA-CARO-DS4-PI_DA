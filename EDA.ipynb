{
 "cells": [
  {
   "cell_type": "markdown",
   "metadata": {},
   "source": [
    "# Análisis Exploratorio de los datos"
   ]
  },
  {
   "cell_type": "markdown",
   "metadata": {},
   "source": [
    "\n",
    "Database Format\n",
    "Date:\t Date of accident,  in the format - January 01, 2001\n",
    "Time:\t Local time, in 24 hr. format unless otherwise specified\n",
    "Airline/Op:\t Airline or operator of the aircraft\n",
    "Flight #:\t Flight number assigned by the aircraft operator\n",
    "Route:\t Complete or partial route flown prior to the accident\n",
    "AC Type:\t Aircraft type\n",
    "Reg:\t ICAO registration of the aircraft\n",
    "cn / ln:\t Construction or serial number / Line or fuselage number\n",
    "Aboard:\t Total aboard (passengers / crew)\n",
    "Fatalities:\t Total fatalities aboard (passengers / crew)\n",
    "Ground:\t Total killed on the ground\n",
    "Summary:\t Brief description of the accident and cause if known"
   ]
  },
  {
   "cell_type": "code",
   "execution_count": 227,
   "metadata": {},
   "outputs": [],
   "source": [
    "import os\n",
    "import pandas as pd"
   ]
  },
  {
   "cell_type": "markdown",
   "metadata": {},
   "source": [
    "El dataset con el que se va a trabajar contiene información acerca de accidentes aéreos."
   ]
  },
  {
   "cell_type": "code",
   "execution_count": 228,
   "metadata": {},
   "outputs": [],
   "source": [
    "df = pd.read_csv(os.path.join(os.getcwd(),'data','AccidentesAviones.csv'))"
   ]
  },
  {
   "cell_type": "code",
   "execution_count": 229,
   "metadata": {},
   "outputs": [
    {
     "data": {
      "text/html": [
       "<div>\n",
       "<style scoped>\n",
       "    .dataframe tbody tr th:only-of-type {\n",
       "        vertical-align: middle;\n",
       "    }\n",
       "\n",
       "    .dataframe tbody tr th {\n",
       "        vertical-align: top;\n",
       "    }\n",
       "\n",
       "    .dataframe thead th {\n",
       "        text-align: right;\n",
       "    }\n",
       "</style>\n",
       "<table border=\"1\" class=\"dataframe\">\n",
       "  <thead>\n",
       "    <tr style=\"text-align: right;\">\n",
       "      <th></th>\n",
       "      <th>Unnamed: 0</th>\n",
       "      <th>fecha</th>\n",
       "      <th>HORA declarada</th>\n",
       "      <th>Ruta</th>\n",
       "      <th>OperadOR</th>\n",
       "      <th>flight_no</th>\n",
       "      <th>route</th>\n",
       "      <th>ac_type</th>\n",
       "      <th>registration</th>\n",
       "      <th>cn_ln</th>\n",
       "      <th>all_aboard</th>\n",
       "      <th>PASAJEROS A BORDO</th>\n",
       "      <th>crew_aboard</th>\n",
       "      <th>cantidad de fallecidos</th>\n",
       "      <th>passenger_fatalities</th>\n",
       "      <th>crew_fatalities</th>\n",
       "      <th>ground</th>\n",
       "      <th>summary</th>\n",
       "    </tr>\n",
       "  </thead>\n",
       "  <tbody>\n",
       "    <tr>\n",
       "      <th>0</th>\n",
       "      <td>0</td>\n",
       "      <td>September 17, 1908</td>\n",
       "      <td>1718</td>\n",
       "      <td>Fort Myer, Virginia</td>\n",
       "      <td>Military - U.S. Army</td>\n",
       "      <td>?</td>\n",
       "      <td>Demonstration</td>\n",
       "      <td>Wright Flyer III</td>\n",
       "      <td>?</td>\n",
       "      <td>1</td>\n",
       "      <td>2</td>\n",
       "      <td>1</td>\n",
       "      <td>1</td>\n",
       "      <td>1</td>\n",
       "      <td>1</td>\n",
       "      <td>0</td>\n",
       "      <td>0</td>\n",
       "      <td>During a demonstration flight, a U.S. Army fly...</td>\n",
       "    </tr>\n",
       "    <tr>\n",
       "      <th>1</th>\n",
       "      <td>1</td>\n",
       "      <td>September 07, 1909</td>\n",
       "      <td>?</td>\n",
       "      <td>Juvisy-sur-Orge, France</td>\n",
       "      <td>?</td>\n",
       "      <td>?</td>\n",
       "      <td>Air show</td>\n",
       "      <td>Wright Byplane</td>\n",
       "      <td>SC1</td>\n",
       "      <td>?</td>\n",
       "      <td>1</td>\n",
       "      <td>0</td>\n",
       "      <td>1</td>\n",
       "      <td>1</td>\n",
       "      <td>0</td>\n",
       "      <td>0</td>\n",
       "      <td>0</td>\n",
       "      <td>Eugene Lefebvre was the first pilot to ever be...</td>\n",
       "    </tr>\n",
       "    <tr>\n",
       "      <th>2</th>\n",
       "      <td>2</td>\n",
       "      <td>July 12, 1912</td>\n",
       "      <td>0630</td>\n",
       "      <td>Atlantic City, New Jersey</td>\n",
       "      <td>Military - U.S. Navy</td>\n",
       "      <td>?</td>\n",
       "      <td>Test flight</td>\n",
       "      <td>Dirigible</td>\n",
       "      <td>?</td>\n",
       "      <td>?</td>\n",
       "      <td>5</td>\n",
       "      <td>0</td>\n",
       "      <td>5</td>\n",
       "      <td>5</td>\n",
       "      <td>0</td>\n",
       "      <td>5</td>\n",
       "      <td>0</td>\n",
       "      <td>First U.S. dirigible Akron exploded just offsh...</td>\n",
       "    </tr>\n",
       "    <tr>\n",
       "      <th>3</th>\n",
       "      <td>3</td>\n",
       "      <td>August 06, 1913</td>\n",
       "      <td>?</td>\n",
       "      <td>Victoria, British Columbia, Canada</td>\n",
       "      <td>Private</td>\n",
       "      <td>?</td>\n",
       "      <td>?</td>\n",
       "      <td>Curtiss seaplane</td>\n",
       "      <td>?</td>\n",
       "      <td>?</td>\n",
       "      <td>1</td>\n",
       "      <td>0</td>\n",
       "      <td>1</td>\n",
       "      <td>1</td>\n",
       "      <td>0</td>\n",
       "      <td>1</td>\n",
       "      <td>0</td>\n",
       "      <td>The first fatal airplane accident in Canada oc...</td>\n",
       "    </tr>\n",
       "    <tr>\n",
       "      <th>4</th>\n",
       "      <td>4</td>\n",
       "      <td>September 09, 1913</td>\n",
       "      <td>1830</td>\n",
       "      <td>Over the North Sea</td>\n",
       "      <td>Military - German Navy</td>\n",
       "      <td>?</td>\n",
       "      <td>?</td>\n",
       "      <td>Zeppelin L-1 (airship)</td>\n",
       "      <td>?</td>\n",
       "      <td>?</td>\n",
       "      <td>20</td>\n",
       "      <td>?</td>\n",
       "      <td>?</td>\n",
       "      <td>14</td>\n",
       "      <td>?</td>\n",
       "      <td>?</td>\n",
       "      <td>0</td>\n",
       "      <td>The airship flew into a thunderstorm and encou...</td>\n",
       "    </tr>\n",
       "  </tbody>\n",
       "</table>\n",
       "</div>"
      ],
      "text/plain": [
       "   Unnamed: 0               fecha HORA declarada  \\\n",
       "0           0  September 17, 1908           1718   \n",
       "1           1  September 07, 1909              ?   \n",
       "2           2       July 12, 1912           0630   \n",
       "3           3     August 06, 1913              ?   \n",
       "4           4  September 09, 1913           1830   \n",
       "\n",
       "                                 Ruta                OperadOR flight_no  \\\n",
       "0                 Fort Myer, Virginia    Military - U.S. Army         ?   \n",
       "1             Juvisy-sur-Orge, France                       ?         ?   \n",
       "2           Atlantic City, New Jersey    Military - U.S. Navy         ?   \n",
       "3  Victoria, British Columbia, Canada                 Private         ?   \n",
       "4                  Over the North Sea  Military - German Navy         ?   \n",
       "\n",
       "           route                 ac_type registration cn_ln all_aboard  \\\n",
       "0  Demonstration        Wright Flyer III            ?     1          2   \n",
       "1       Air show          Wright Byplane          SC1     ?          1   \n",
       "2    Test flight               Dirigible            ?     ?          5   \n",
       "3              ?        Curtiss seaplane            ?     ?          1   \n",
       "4              ?  Zeppelin L-1 (airship)            ?     ?         20   \n",
       "\n",
       "  PASAJEROS A BORDO crew_aboard cantidad de fallecidos passenger_fatalities  \\\n",
       "0                 1           1                      1                    1   \n",
       "1                 0           1                      1                    0   \n",
       "2                 0           5                      5                    0   \n",
       "3                 0           1                      1                    0   \n",
       "4                 ?           ?                     14                    ?   \n",
       "\n",
       "  crew_fatalities ground                                            summary  \n",
       "0               0      0  During a demonstration flight, a U.S. Army fly...  \n",
       "1               0      0  Eugene Lefebvre was the first pilot to ever be...  \n",
       "2               5      0  First U.S. dirigible Akron exploded just offsh...  \n",
       "3               1      0  The first fatal airplane accident in Canada oc...  \n",
       "4               ?      0  The airship flew into a thunderstorm and encou...  "
      ]
     },
     "execution_count": 229,
     "metadata": {},
     "output_type": "execute_result"
    }
   ],
   "source": [
    "df.head()"
   ]
  },
  {
   "cell_type": "markdown",
   "metadata": {},
   "source": [
    "Se reemplaza '?' por 'nan' para luego tener un registro de valores nulos."
   ]
  },
  {
   "cell_type": "code",
   "execution_count": 230,
   "metadata": {},
   "outputs": [],
   "source": [
    "df.replace('?',float('nan'),inplace=True)"
   ]
  },
  {
   "cell_type": "code",
   "execution_count": 231,
   "metadata": {},
   "outputs": [
    {
     "name": "stdout",
     "output_type": "stream",
     "text": [
      "<class 'pandas.core.frame.DataFrame'>\n",
      "RangeIndex: 5008 entries, 0 to 5007\n",
      "Data columns (total 18 columns):\n",
      " #   Column                  Non-Null Count  Dtype \n",
      "---  ------                  --------------  ----- \n",
      " 0   Unnamed: 0              5008 non-null   int64 \n",
      " 1   fecha                   5008 non-null   object\n",
      " 2   HORA declarada          3504 non-null   object\n",
      " 3   Ruta                    5003 non-null   object\n",
      " 4   OperadOR                4998 non-null   object\n",
      " 5   flight_no               1326 non-null   object\n",
      " 6   route                   4246 non-null   object\n",
      " 7   ac_type                 4995 non-null   object\n",
      " 8   registration            4736 non-null   object\n",
      " 9   cn_ln                   4341 non-null   object\n",
      " 10  all_aboard              4991 non-null   object\n",
      " 11  PASAJEROS A BORDO       4787 non-null   object\n",
      " 12  crew_aboard             4789 non-null   object\n",
      " 13  cantidad de fallecidos  5000 non-null   object\n",
      " 14  passenger_fatalities    4773 non-null   object\n",
      " 15  crew_fatalities         4773 non-null   object\n",
      " 16  ground                  4964 non-null   object\n",
      " 17  summary                 4949 non-null   object\n",
      "dtypes: int64(1), object(17)\n",
      "memory usage: 704.4+ KB\n"
     ]
    }
   ],
   "source": [
    "df.info()"
   ]
  },
  {
   "cell_type": "markdown",
   "metadata": {},
   "source": [
    "### Unnamed: 0"
   ]
  },
  {
   "cell_type": "markdown",
   "metadata": {},
   "source": [
    "La columna 'Unnamed: 0' no es de interés ya que es igual al índice."
   ]
  },
  {
   "cell_type": "code",
   "execution_count": 232,
   "metadata": {},
   "outputs": [
    {
     "data": {
      "text/plain": [
       "5008"
      ]
     },
     "execution_count": 232,
     "metadata": {},
     "output_type": "execute_result"
    }
   ],
   "source": [
    "len(df['Unnamed: 0'].unique())"
   ]
  },
  {
   "cell_type": "code",
   "execution_count": 233,
   "metadata": {},
   "outputs": [],
   "source": [
    "df.drop('Unnamed: 0',axis=1,inplace=True)"
   ]
  },
  {
   "cell_type": "markdown",
   "metadata": {},
   "source": [
    "### Fecha"
   ]
  },
  {
   "cell_type": "markdown",
   "metadata": {},
   "source": [
    "Es la fecha en la que ocurrió el accidente"
   ]
  },
  {
   "cell_type": "markdown",
   "metadata": {},
   "source": [
    "Se convierte la columna fecha a formato datetime."
   ]
  },
  {
   "cell_type": "code",
   "execution_count": 234,
   "metadata": {},
   "outputs": [],
   "source": [
    "df.fecha = pd.to_datetime(df.fecha)"
   ]
  },
  {
   "cell_type": "code",
   "execution_count": 235,
   "metadata": {},
   "outputs": [],
   "source": [
    "df.fecha = df.fecha.dt.strftime('%m/%d/%Y')"
   ]
  },
  {
   "cell_type": "code",
   "execution_count": 236,
   "metadata": {},
   "outputs": [],
   "source": [
    "df.rename(columns={'fecha':'date'},inplace=True)"
   ]
  },
  {
   "cell_type": "markdown",
   "metadata": {},
   "source": [
    "### HORA declarada"
   ]
  },
  {
   "cell_type": "markdown",
   "metadata": {},
   "source": [
    "Hora en que ocurrió el accidente."
   ]
  },
  {
   "cell_type": "code",
   "execution_count": 237,
   "metadata": {},
   "outputs": [],
   "source": [
    "df.rename(columns={'HORA declarada':'time'},inplace=True)"
   ]
  },
  {
   "cell_type": "code",
   "execution_count": 238,
   "metadata": {},
   "outputs": [],
   "source": [
    "df.time.fillna('-1',inplace=True)"
   ]
  },
  {
   "cell_type": "code",
   "execution_count": 239,
   "metadata": {},
   "outputs": [],
   "source": [
    "def normalize_time(x):\n",
    "    x = x.strip(' cZ')\n",
    "    x = x.split(':')\n",
    "    x = ''.join(x)\n",
    "    x = x.split(';')\n",
    "    return ''.join(x)"
   ]
  },
  {
   "cell_type": "code",
   "execution_count": 240,
   "metadata": {},
   "outputs": [],
   "source": [
    "df.time = df.time.astype(str).apply(lambda x: int(normalize_time(x)))"
   ]
  },
  {
   "cell_type": "markdown",
   "metadata": {},
   "source": [
    "### Ruta"
   ]
  },
  {
   "cell_type": "markdown",
   "metadata": {},
   "source": [
    "Lugar en el que ocurrió el accidente."
   ]
  },
  {
   "cell_type": "code",
   "execution_count": 241,
   "metadata": {},
   "outputs": [],
   "source": [
    "df.rename(columns={'Ruta':'location'},inplace=True)"
   ]
  },
  {
   "cell_type": "markdown",
   "metadata": {},
   "source": [
    "### OperadOR"
   ]
  },
  {
   "cell_type": "markdown",
   "metadata": {},
   "source": [
    "Operador de la aerolinea."
   ]
  },
  {
   "cell_type": "code",
   "execution_count": 242,
   "metadata": {},
   "outputs": [],
   "source": [
    "df.rename(columns={'OperadOR':'operator'},inplace=True)"
   ]
  },
  {
   "cell_type": "markdown",
   "metadata": {},
   "source": [
    "### flight_no"
   ]
  },
  {
   "cell_type": "markdown",
   "metadata": {},
   "source": [
    "Número de vuelo. No se va a trabajar con esta columna ya que contiene casi el 75 % de valores nulos."
   ]
  },
  {
   "cell_type": "code",
   "execution_count": 243,
   "metadata": {},
   "outputs": [],
   "source": [
    "df.drop('flight_no',axis=1,inplace=True)"
   ]
  },
  {
   "cell_type": "markdown",
   "metadata": {},
   "source": [
    "### route"
   ]
  },
  {
   "cell_type": "markdown",
   "metadata": {},
   "source": [
    "Ruta de vuelo total o parcial antes del accidente.<br>"
   ]
  },
  {
   "cell_type": "markdown",
   "metadata": {},
   "source": [
    "### ac_type "
   ]
  },
  {
   "cell_type": "markdown",
   "metadata": {},
   "source": [
    "Tipo de avión."
   ]
  },
  {
   "cell_type": "code",
   "execution_count": 244,
   "metadata": {},
   "outputs": [
    {
     "data": {
      "text/html": [
       "<div>\n",
       "<style scoped>\n",
       "    .dataframe tbody tr th:only-of-type {\n",
       "        vertical-align: middle;\n",
       "    }\n",
       "\n",
       "    .dataframe tbody tr th {\n",
       "        vertical-align: top;\n",
       "    }\n",
       "\n",
       "    .dataframe thead th {\n",
       "        text-align: right;\n",
       "    }\n",
       "</style>\n",
       "<table border=\"1\" class=\"dataframe\">\n",
       "  <thead>\n",
       "    <tr style=\"text-align: right;\">\n",
       "      <th></th>\n",
       "      <th>date</th>\n",
       "      <th>time</th>\n",
       "      <th>location</th>\n",
       "      <th>operator</th>\n",
       "      <th>route</th>\n",
       "      <th>registration</th>\n",
       "      <th>cn_ln</th>\n",
       "      <th>all_aboard</th>\n",
       "      <th>PASAJEROS A BORDO</th>\n",
       "      <th>crew_aboard</th>\n",
       "      <th>cantidad de fallecidos</th>\n",
       "      <th>passenger_fatalities</th>\n",
       "      <th>crew_fatalities</th>\n",
       "      <th>ground</th>\n",
       "      <th>summary</th>\n",
       "    </tr>\n",
       "    <tr>\n",
       "      <th>ac_type</th>\n",
       "      <th></th>\n",
       "      <th></th>\n",
       "      <th></th>\n",
       "      <th></th>\n",
       "      <th></th>\n",
       "      <th></th>\n",
       "      <th></th>\n",
       "      <th></th>\n",
       "      <th></th>\n",
       "      <th></th>\n",
       "      <th></th>\n",
       "      <th></th>\n",
       "      <th></th>\n",
       "      <th></th>\n",
       "      <th></th>\n",
       "    </tr>\n",
       "  </thead>\n",
       "  <tbody>\n",
       "    <tr>\n",
       "      <th>Douglas DC-3</th>\n",
       "      <td>333</td>\n",
       "      <td>333</td>\n",
       "      <td>332</td>\n",
       "      <td>333</td>\n",
       "      <td>291</td>\n",
       "      <td>316</td>\n",
       "      <td>293</td>\n",
       "      <td>330</td>\n",
       "      <td>316</td>\n",
       "      <td>316</td>\n",
       "      <td>333</td>\n",
       "      <td>315</td>\n",
       "      <td>314</td>\n",
       "      <td>329</td>\n",
       "      <td>328</td>\n",
       "    </tr>\n",
       "    <tr>\n",
       "      <th>de Havilland Canada DHC-6 Twin Otter 300</th>\n",
       "      <td>81</td>\n",
       "      <td>81</td>\n",
       "      <td>81</td>\n",
       "      <td>81</td>\n",
       "      <td>68</td>\n",
       "      <td>81</td>\n",
       "      <td>81</td>\n",
       "      <td>81</td>\n",
       "      <td>81</td>\n",
       "      <td>81</td>\n",
       "      <td>81</td>\n",
       "      <td>81</td>\n",
       "      <td>81</td>\n",
       "      <td>81</td>\n",
       "      <td>81</td>\n",
       "    </tr>\n",
       "    <tr>\n",
       "      <th>Douglas C-47A</th>\n",
       "      <td>70</td>\n",
       "      <td>70</td>\n",
       "      <td>70</td>\n",
       "      <td>70</td>\n",
       "      <td>53</td>\n",
       "      <td>69</td>\n",
       "      <td>68</td>\n",
       "      <td>70</td>\n",
       "      <td>69</td>\n",
       "      <td>69</td>\n",
       "      <td>70</td>\n",
       "      <td>69</td>\n",
       "      <td>69</td>\n",
       "      <td>70</td>\n",
       "      <td>70</td>\n",
       "    </tr>\n",
       "    <tr>\n",
       "      <th>Douglas C-47</th>\n",
       "      <td>64</td>\n",
       "      <td>64</td>\n",
       "      <td>64</td>\n",
       "      <td>64</td>\n",
       "      <td>50</td>\n",
       "      <td>48</td>\n",
       "      <td>24</td>\n",
       "      <td>63</td>\n",
       "      <td>59</td>\n",
       "      <td>59</td>\n",
       "      <td>63</td>\n",
       "      <td>58</td>\n",
       "      <td>57</td>\n",
       "      <td>62</td>\n",
       "      <td>62</td>\n",
       "    </tr>\n",
       "    <tr>\n",
       "      <th>Douglas DC-4</th>\n",
       "      <td>41</td>\n",
       "      <td>41</td>\n",
       "      <td>41</td>\n",
       "      <td>41</td>\n",
       "      <td>38</td>\n",
       "      <td>40</td>\n",
       "      <td>41</td>\n",
       "      <td>41</td>\n",
       "      <td>40</td>\n",
       "      <td>40</td>\n",
       "      <td>41</td>\n",
       "      <td>40</td>\n",
       "      <td>40</td>\n",
       "      <td>40</td>\n",
       "      <td>41</td>\n",
       "    </tr>\n",
       "    <tr>\n",
       "      <th>Antonov AN-26</th>\n",
       "      <td>35</td>\n",
       "      <td>35</td>\n",
       "      <td>35</td>\n",
       "      <td>35</td>\n",
       "      <td>26</td>\n",
       "      <td>25</td>\n",
       "      <td>21</td>\n",
       "      <td>35</td>\n",
       "      <td>32</td>\n",
       "      <td>32</td>\n",
       "      <td>35</td>\n",
       "      <td>31</td>\n",
       "      <td>31</td>\n",
       "      <td>35</td>\n",
       "      <td>35</td>\n",
       "    </tr>\n",
       "    <tr>\n",
       "      <th>Yakovlev YAK-40</th>\n",
       "      <td>35</td>\n",
       "      <td>35</td>\n",
       "      <td>35</td>\n",
       "      <td>35</td>\n",
       "      <td>33</td>\n",
       "      <td>35</td>\n",
       "      <td>35</td>\n",
       "      <td>35</td>\n",
       "      <td>35</td>\n",
       "      <td>35</td>\n",
       "      <td>35</td>\n",
       "      <td>35</td>\n",
       "      <td>35</td>\n",
       "      <td>35</td>\n",
       "      <td>35</td>\n",
       "    </tr>\n",
       "    <tr>\n",
       "      <th>Junkers JU-52/3m</th>\n",
       "      <td>30</td>\n",
       "      <td>30</td>\n",
       "      <td>30</td>\n",
       "      <td>30</td>\n",
       "      <td>24</td>\n",
       "      <td>30</td>\n",
       "      <td>29</td>\n",
       "      <td>30</td>\n",
       "      <td>30</td>\n",
       "      <td>30</td>\n",
       "      <td>30</td>\n",
       "      <td>29</td>\n",
       "      <td>29</td>\n",
       "      <td>30</td>\n",
       "      <td>28</td>\n",
       "    </tr>\n",
       "    <tr>\n",
       "      <th>De Havilland DH-4</th>\n",
       "      <td>27</td>\n",
       "      <td>27</td>\n",
       "      <td>27</td>\n",
       "      <td>27</td>\n",
       "      <td>2</td>\n",
       "      <td>25</td>\n",
       "      <td>1</td>\n",
       "      <td>27</td>\n",
       "      <td>27</td>\n",
       "      <td>27</td>\n",
       "      <td>27</td>\n",
       "      <td>27</td>\n",
       "      <td>27</td>\n",
       "      <td>27</td>\n",
       "      <td>26</td>\n",
       "    </tr>\n",
       "    <tr>\n",
       "      <th>Douglas C-47B</th>\n",
       "      <td>27</td>\n",
       "      <td>27</td>\n",
       "      <td>27</td>\n",
       "      <td>27</td>\n",
       "      <td>18</td>\n",
       "      <td>27</td>\n",
       "      <td>25</td>\n",
       "      <td>27</td>\n",
       "      <td>23</td>\n",
       "      <td>23</td>\n",
       "      <td>27</td>\n",
       "      <td>23</td>\n",
       "      <td>23</td>\n",
       "      <td>27</td>\n",
       "      <td>26</td>\n",
       "    </tr>\n",
       "  </tbody>\n",
       "</table>\n",
       "</div>"
      ],
      "text/plain": [
       "                                          date  time  location  operator  \\\n",
       "ac_type                                                                    \n",
       "Douglas DC-3                               333   333       332       333   \n",
       "de Havilland Canada DHC-6 Twin Otter 300    81    81        81        81   \n",
       "Douglas C-47A                               70    70        70        70   \n",
       "Douglas C-47                                64    64        64        64   \n",
       "Douglas DC-4                                41    41        41        41   \n",
       "Antonov AN-26                               35    35        35        35   \n",
       "Yakovlev YAK-40                             35    35        35        35   \n",
       "Junkers JU-52/3m                            30    30        30        30   \n",
       "De Havilland DH-4                           27    27        27        27   \n",
       "Douglas C-47B                               27    27        27        27   \n",
       "\n",
       "                                          route  registration  cn_ln  \\\n",
       "ac_type                                                                \n",
       "Douglas DC-3                                291           316    293   \n",
       "de Havilland Canada DHC-6 Twin Otter 300     68            81     81   \n",
       "Douglas C-47A                                53            69     68   \n",
       "Douglas C-47                                 50            48     24   \n",
       "Douglas DC-4                                 38            40     41   \n",
       "Antonov AN-26                                26            25     21   \n",
       "Yakovlev YAK-40                              33            35     35   \n",
       "Junkers JU-52/3m                             24            30     29   \n",
       "De Havilland DH-4                             2            25      1   \n",
       "Douglas C-47B                                18            27     25   \n",
       "\n",
       "                                          all_aboard  PASAJEROS A BORDO  \\\n",
       "ac_type                                                                   \n",
       "Douglas DC-3                                     330                316   \n",
       "de Havilland Canada DHC-6 Twin Otter 300          81                 81   \n",
       "Douglas C-47A                                     70                 69   \n",
       "Douglas C-47                                      63                 59   \n",
       "Douglas DC-4                                      41                 40   \n",
       "Antonov AN-26                                     35                 32   \n",
       "Yakovlev YAK-40                                   35                 35   \n",
       "Junkers JU-52/3m                                  30                 30   \n",
       "De Havilland DH-4                                 27                 27   \n",
       "Douglas C-47B                                     27                 23   \n",
       "\n",
       "                                          crew_aboard  cantidad de fallecidos  \\\n",
       "ac_type                                                                         \n",
       "Douglas DC-3                                      316                     333   \n",
       "de Havilland Canada DHC-6 Twin Otter 300           81                      81   \n",
       "Douglas C-47A                                      69                      70   \n",
       "Douglas C-47                                       59                      63   \n",
       "Douglas DC-4                                       40                      41   \n",
       "Antonov AN-26                                      32                      35   \n",
       "Yakovlev YAK-40                                    35                      35   \n",
       "Junkers JU-52/3m                                   30                      30   \n",
       "De Havilland DH-4                                  27                      27   \n",
       "Douglas C-47B                                      23                      27   \n",
       "\n",
       "                                          passenger_fatalities  \\\n",
       "ac_type                                                          \n",
       "Douglas DC-3                                               315   \n",
       "de Havilland Canada DHC-6 Twin Otter 300                    81   \n",
       "Douglas C-47A                                               69   \n",
       "Douglas C-47                                                58   \n",
       "Douglas DC-4                                                40   \n",
       "Antonov AN-26                                               31   \n",
       "Yakovlev YAK-40                                             35   \n",
       "Junkers JU-52/3m                                            29   \n",
       "De Havilland DH-4                                           27   \n",
       "Douglas C-47B                                               23   \n",
       "\n",
       "                                          crew_fatalities  ground  summary  \n",
       "ac_type                                                                     \n",
       "Douglas DC-3                                          314     329      328  \n",
       "de Havilland Canada DHC-6 Twin Otter 300               81      81       81  \n",
       "Douglas C-47A                                          69      70       70  \n",
       "Douglas C-47                                           57      62       62  \n",
       "Douglas DC-4                                           40      40       41  \n",
       "Antonov AN-26                                          31      35       35  \n",
       "Yakovlev YAK-40                                        35      35       35  \n",
       "Junkers JU-52/3m                                       29      30       28  \n",
       "De Havilland DH-4                                      27      27       26  \n",
       "Douglas C-47B                                          23      27       26  "
      ]
     },
     "execution_count": 244,
     "metadata": {},
     "output_type": "execute_result"
    }
   ],
   "source": [
    "df.groupby('ac_type').count().nlargest(n=10,columns='date')"
   ]
  },
  {
   "cell_type": "markdown",
   "metadata": {},
   "source": [
    "Los tipos de aviones que tuvieron más accidentes no tienen un número significativo.<br> Por tal motivo no se va a utilizar esta columna para el análisis."
   ]
  },
  {
   "cell_type": "code",
   "execution_count": 245,
   "metadata": {},
   "outputs": [],
   "source": [
    "df.drop('ac_type',axis=1,inplace=True)"
   ]
  },
  {
   "cell_type": "markdown",
   "metadata": {},
   "source": [
    "### registration<br>\n",
    "### cn_ln"
   ]
  },
  {
   "cell_type": "markdown",
   "metadata": {},
   "source": [
    "registration y cn_ln son características de los aviones que tampoco se van a utilizar."
   ]
  },
  {
   "cell_type": "code",
   "execution_count": 246,
   "metadata": {},
   "outputs": [],
   "source": [
    "df.drop(['registration','cn_ln'],axis=1,inplace=True)"
   ]
  },
  {
   "cell_type": "markdown",
   "metadata": {},
   "source": [
    "### all_aboard<br>\n",
    "### PASAJEROS A BORDO<br>\n",
    "### crew_aboard "
   ]
  },
  {
   "cell_type": "markdown",
   "metadata": {},
   "source": [
    "all_aboard es el número total de personas abordo y crew_aboard el total de la tripulación."
   ]
  },
  {
   "cell_type": "markdown",
   "metadata": {},
   "source": [
    "Se va a utilizar la columna del número total de personas. Ésta contiene valores nulos así que se la va a intentar llenar con la suma de valores de la columna ***PASAJEROS A BORDO*** y ***crew_aboard***."
   ]
  },
  {
   "cell_type": "code",
   "execution_count": 247,
   "metadata": {},
   "outputs": [],
   "source": [
    "df.crew_aboard = df.crew_aboard.apply(lambda x: float(x))"
   ]
  },
  {
   "cell_type": "code",
   "execution_count": 248,
   "metadata": {},
   "outputs": [],
   "source": [
    "df['PASAJEROS A BORDO'] = df['PASAJEROS A BORDO'].apply(lambda x: float(x))"
   ]
  },
  {
   "cell_type": "code",
   "execution_count": 249,
   "metadata": {},
   "outputs": [],
   "source": [
    "df.all_aboard = df.all_aboard.apply(lambda x: float(x))"
   ]
  },
  {
   "cell_type": "code",
   "execution_count": 250,
   "metadata": {},
   "outputs": [],
   "source": [
    "df.all_aboard.fillna(df.crew_aboard + df['PASAJEROS A BORDO'],inplace=True)"
   ]
  },
  {
   "cell_type": "code",
   "execution_count": 251,
   "metadata": {},
   "outputs": [],
   "source": [
    "df.drop(['PASAJEROS A BORDO','crew_aboard'],axis=1,inplace=True)"
   ]
  },
  {
   "cell_type": "markdown",
   "metadata": {},
   "source": [
    "### cantidad de fallecidos<br>\n",
    "### passenger_fatalities<br>\n",
    "### crew_fatalities<br>\n",
    "### ground "
   ]
  },
  {
   "cell_type": "markdown",
   "metadata": {},
   "source": [
    "La cantidad de fallecidos son los totales, passenger_fatalities son los pasajeros fallecidos, crew_fatalities el número de miembros de la flota fallecidos y ground los fallecidos en el suelo.<br>\n",
    "Se va a trabajar con el número total."
   ]
  },
  {
   "cell_type": "code",
   "execution_count": 252,
   "metadata": {},
   "outputs": [],
   "source": [
    "df['cantidad de fallecidos'] = df['cantidad de fallecidos'].apply(lambda x: float(x))\n",
    "df.passenger_fatalities = df.passenger_fatalities.apply(lambda x: float(x))\n",
    "df.crew_fatalities = df.crew_fatalities.apply(lambda x: float(x))\n",
    "df.ground = df.ground.apply(lambda x: float(x))"
   ]
  },
  {
   "cell_type": "code",
   "execution_count": 253,
   "metadata": {},
   "outputs": [],
   "source": [
    "df['cantidad de fallecidos'].fillna(df.passenger_fatalities + df.crew_fatalities,inplace=True)"
   ]
  },
  {
   "cell_type": "code",
   "execution_count": 254,
   "metadata": {},
   "outputs": [],
   "source": [
    "df['cantidad de fallecidos'].fillna(df.ground,inplace=True)"
   ]
  },
  {
   "cell_type": "code",
   "execution_count": 255,
   "metadata": {},
   "outputs": [],
   "source": [
    "df.drop(['passenger_fatalities','crew_fatalities','ground'],axis = 1, inplace=True)"
   ]
  },
  {
   "cell_type": "code",
   "execution_count": 256,
   "metadata": {},
   "outputs": [],
   "source": [
    "df.rename(columns={'cantidad de fallecidos':'total_fatalities'},inplace=True)"
   ]
  },
  {
   "cell_type": "code",
   "execution_count": 257,
   "metadata": {},
   "outputs": [
    {
     "name": "stdout",
     "output_type": "stream",
     "text": [
      "<class 'pandas.core.frame.DataFrame'>\n",
      "RangeIndex: 5008 entries, 0 to 5007\n",
      "Data columns (total 8 columns):\n",
      " #   Column            Non-Null Count  Dtype  \n",
      "---  ------            --------------  -----  \n",
      " 0   date              5008 non-null   object \n",
      " 1   time              5008 non-null   int64  \n",
      " 2   location          5003 non-null   object \n",
      " 3   operator          4998 non-null   object \n",
      " 4   route             4246 non-null   object \n",
      " 5   all_aboard        4991 non-null   float64\n",
      " 6   total_fatalities  5000 non-null   float64\n",
      " 7   summary           4949 non-null   object \n",
      "dtypes: float64(2), int64(1), object(5)\n",
      "memory usage: 313.1+ KB\n"
     ]
    }
   ],
   "source": [
    "df.info()"
   ]
  },
  {
   "cell_type": "markdown",
   "metadata": {},
   "source": [
    "Se obtuvo información sobre la principal causa de algunos de los accidentes (ver ***more_info.ipynb***)."
   ]
  },
  {
   "cell_type": "code",
   "execution_count": 258,
   "metadata": {},
   "outputs": [],
   "source": [
    "more_info = pd.read_csv(os.path.join(os.getcwd(),'data','more_info.csv'))"
   ]
  },
  {
   "cell_type": "code",
   "execution_count": 259,
   "metadata": {},
   "outputs": [],
   "source": [
    "df2 = pd.merge(df, more_info, how = 'left', on=['date','location','operator'])"
   ]
  },
  {
   "cell_type": "code",
   "execution_count": 260,
   "metadata": {},
   "outputs": [],
   "source": [
    "df2.drop(['Unnamed: 0','description'],axis=1,inplace=True)"
   ]
  },
  {
   "cell_type": "code",
   "execution_count": 261,
   "metadata": {},
   "outputs": [
    {
     "name": "stdout",
     "output_type": "stream",
     "text": [
      "<class 'pandas.core.frame.DataFrame'>\n",
      "Int64Index: 5008 entries, 0 to 5007\n",
      "Data columns (total 9 columns):\n",
      " #   Column            Non-Null Count  Dtype  \n",
      "---  ------            --------------  -----  \n",
      " 0   date              5008 non-null   object \n",
      " 1   time              5008 non-null   int64  \n",
      " 2   location          5003 non-null   object \n",
      " 3   operator          4998 non-null   object \n",
      " 4   route             4246 non-null   object \n",
      " 5   all_aboard        4991 non-null   float64\n",
      " 6   total_fatalities  5000 non-null   float64\n",
      " 7   summary           4949 non-null   object \n",
      " 8   cause             66 non-null     object \n",
      "dtypes: float64(2), int64(1), object(6)\n",
      "memory usage: 391.2+ KB\n"
     ]
    }
   ],
   "source": [
    "df2.info()"
   ]
  },
  {
   "cell_type": "code",
   "execution_count": 262,
   "metadata": {},
   "outputs": [
    {
     "data": {
      "text/plain": [
       "array([nan, 'Lightning', 'Cargo Hold / Cabin / Cockpit Fires',\n",
       "       'Air Traffic Control Errors', 'Pilot Incapacitation',\n",
       "       'Fuel Starvation', 'Sabotage / Hijacking', 'Design Flaws',\n",
       "       'Bird Strikes'], dtype=object)"
      ]
     },
     "execution_count": 262,
     "metadata": {},
     "output_type": "execute_result"
    }
   ],
   "source": [
    "df2.cause.unique()"
   ]
  },
  {
   "cell_type": "code",
   "execution_count": 263,
   "metadata": {},
   "outputs": [],
   "source": [
    "df2.cause = df2.cause.replace('Lightning','Weather')"
   ]
  },
  {
   "cell_type": "markdown",
   "metadata": {},
   "source": [
    "### Summary"
   ]
  },
  {
   "cell_type": "markdown",
   "metadata": {},
   "source": [
    "Se puede obtener más información de las causas a partir de la columna summary."
   ]
  },
  {
   "cell_type": "markdown",
   "metadata": {},
   "source": [
    "Se van a buscar palabras clave como ***weather***, ***air-traffic***, ***fuel***, etc."
   ]
  },
  {
   "cell_type": "code",
   "execution_count": 264,
   "metadata": {},
   "outputs": [],
   "source": [
    "import re"
   ]
  },
  {
   "cell_type": "code",
   "execution_count": 265,
   "metadata": {},
   "outputs": [],
   "source": [
    "patterns = {\n",
    "            'pilot mis': 'Pilot Incapacitation',\n",
    "            \"pilot's failure\": 'Pilot Incapacitation',\n",
    "            \"pilot's error\": 'Pilot Incapacitation',\n",
    "            \"pilot error\": 'Pilot Incapacitation',\n",
    "            'turbulence': 'Weather',\n",
    "            'storm': 'Weather',\n",
    "            'lightning': 'Weather',\n",
    "            'fog': 'Weather',\n",
    "            'visibility': 'Weather',\n",
    "            'fire':'Cargo Hold / Cabin / Cockpit Fires',\n",
    "            'burn':'Cargo Hold / Cabin / Cockpit Fires',\n",
    "            'flames': 'Cargo Hold / Cabin / Cockpit Fires',\n",
    "            'air traffic': 'Air Traffic Control Errors',\n",
    "            'fuel': 'Fuel Starvation',\n",
    "            'sabotage': 'Sabotage / Hijacking',\n",
    "            'hijack': 'Sabotage / Hijacking',\n",
    "            'design': 'Design Flaws',\n",
    "            'engine': 'Engine Failures',\n",
    "            'stall': 'Engine Failures',\n",
    "            'bird strike': 'Bird Strikes',\n",
    "            'shot down': 'Shot Down',\n",
    "            'unknown': 'Unknown'\n",
    "            }"
   ]
  },
  {
   "cell_type": "code",
   "execution_count": 266,
   "metadata": {},
   "outputs": [
    {
     "data": {
      "text/plain": [
       "dict_keys(['pilot mis', \"pilot's failure\", \"pilot's error\", 'pilot error', 'turbulence', 'storm', 'lightning', 'fog', 'visibility', 'fire', 'burn', 'flames', 'air traffic', 'fuel', 'sabotage', 'hijack', 'design', 'engine', 'stall', 'bird strike', 'shot down', 'unknown'])"
      ]
     },
     "execution_count": 266,
     "metadata": {},
     "output_type": "execute_result"
    }
   ],
   "source": [
    "patterns.keys()"
   ]
  },
  {
   "cell_type": "code",
   "execution_count": 267,
   "metadata": {},
   "outputs": [],
   "source": [
    "cause = []\n",
    "for i in df2.summary:\n",
    "    cause_found=False\n",
    "    for j in patterns.keys():\n",
    "        if (not cause_found) and re.search(j,str(i).lower()):\n",
    "            cause.append(patterns[re.search(j,str(i).lower()).group(0)])\n",
    "            cause_found = True\n",
    "    if not cause_found:\n",
    "        cause.append(float('nan'))"
   ]
  },
  {
   "cell_type": "code",
   "execution_count": 268,
   "metadata": {},
   "outputs": [],
   "source": [
    "df2['cause_2'] = cause"
   ]
  },
  {
   "cell_type": "code",
   "execution_count": 269,
   "metadata": {},
   "outputs": [],
   "source": [
    "df2.cause.fillna(df2.cause_2,inplace=True)"
   ]
  },
  {
   "cell_type": "code",
   "execution_count": 270,
   "metadata": {},
   "outputs": [],
   "source": [
    "df2.drop(['cause_2','summary'],axis=1,inplace=True)"
   ]
  },
  {
   "cell_type": "code",
   "execution_count": 271,
   "metadata": {},
   "outputs": [
    {
     "name": "stdout",
     "output_type": "stream",
     "text": [
      "<class 'pandas.core.frame.DataFrame'>\n",
      "Int64Index: 5008 entries, 0 to 5007\n",
      "Data columns (total 8 columns):\n",
      " #   Column            Non-Null Count  Dtype  \n",
      "---  ------            --------------  -----  \n",
      " 0   date              5008 non-null   object \n",
      " 1   time              5008 non-null   int64  \n",
      " 2   location          5003 non-null   object \n",
      " 3   operator          4998 non-null   object \n",
      " 4   route             4246 non-null   object \n",
      " 5   all_aboard        4991 non-null   float64\n",
      " 6   total_fatalities  5000 non-null   float64\n",
      " 7   cause             2720 non-null   object \n",
      "dtypes: float64(2), int64(1), object(5)\n",
      "memory usage: 352.1+ KB\n"
     ]
    }
   ],
   "source": [
    "df2.info()"
   ]
  },
  {
   "cell_type": "markdown",
   "metadata": {},
   "source": [
    "Me interesan principalmente las filas que contienen datos del número de fallecidos y el número de total de personas en el avión."
   ]
  },
  {
   "cell_type": "code",
   "execution_count": 272,
   "metadata": {},
   "outputs": [],
   "source": [
    "df2.dropna(subset=['all_aboard','total_fatalities'],inplace=True)"
   ]
  },
  {
   "cell_type": "code",
   "execution_count": 273,
   "metadata": {},
   "outputs": [],
   "source": [
    "df2.total_fatalities = df2.total_fatalities.apply(lambda x: int(x))"
   ]
  },
  {
   "cell_type": "code",
   "execution_count": 274,
   "metadata": {},
   "outputs": [],
   "source": [
    "df2.all_aboard = df2.all_aboard.apply(lambda x: int(x))"
   ]
  },
  {
   "cell_type": "code",
   "execution_count": 275,
   "metadata": {},
   "outputs": [],
   "source": [
    "df2.fillna('Sin Dato',inplace=True)"
   ]
  },
  {
   "cell_type": "markdown",
   "metadata": {},
   "source": [
    "Con respecto a la información relacionada al lugar del accidente, se va a tomar sólo el país, o estado de USA."
   ]
  },
  {
   "cell_type": "code",
   "execution_count": 276,
   "metadata": {},
   "outputs": [],
   "source": [
    "df2.location = df2.location.apply(lambda x: x.split(\" \")[-1].title())"
   ]
  },
  {
   "cell_type": "code",
   "execution_count": 277,
   "metadata": {},
   "outputs": [],
   "source": [
    "df2.location = df2.location.apply(lambda x: x.split(\"\\r\")[-1])"
   ]
  },
  {
   "cell_type": "code",
   "execution_count": 278,
   "metadata": {},
   "outputs": [],
   "source": [
    "df2.location = df2.location.apply(lambda x: x.split(\",\")[-1])"
   ]
  },
  {
   "cell_type": "code",
   "execution_count": 279,
   "metadata": {},
   "outputs": [],
   "source": [
    "df2.location = df2.location.apply(lambda x: x.strip(',.)(\"2\"'))"
   ]
  },
  {
   "cell_type": "code",
   "execution_count": 280,
   "metadata": {},
   "outputs": [],
   "source": [
    "usa_states = [\"Alabama\",\n",
    "\"Alaska\",\n",
    "\"Arizona\",\n",
    "\"Arkansas\",\n",
    "\"California\",\n",
    "'Calilfornia',\n",
    "'Cailifornia',\n",
    "'Californiia',\n",
    "'Californiia',\n",
    "\"Ca\",\n",
    "\"Colorado\",\n",
    "\"Connecticut\",\n",
    "\"Delaware\",\n",
    "\"Florida\",\n",
    "\"Georgia\",\n",
    "\"Hawaii\",\n",
    "\"Idaho\",\n",
    "\"Illinois\",\n",
    "\"Indiana\",\n",
    "\"Iowa\",\n",
    "\"Kansas\",\n",
    "\"Kentucky\",\n",
    "\"Louisiana\",\n",
    "\"Maine\",\n",
    "\"Maryland\",\n",
    "\"Massachusetts\",\n",
    "\"Michigan\",\n",
    "\"Minnesota\",\n",
    "'Minnisota',\n",
    "\"Mississippi\",\n",
    "\"Missouri\",\n",
    "\"Montana\",\n",
    "\"Nebraska\",\n",
    "\"Nevada\",\n",
    "\"New Hampshire\",\n",
    "\"Hamshire\",\n",
    "\"New Jersey\",\n",
    "\"Jersey\",\n",
    "\"New Mexico\",\n",
    "\"New York\",\n",
    "\"York\",\n",
    "\"North Carolina\",\n",
    "\"North Dakota\",\n",
    "\"Ohio\",\n",
    "\"Oklahoma\",\n",
    "\"Oregon\",\n",
    "\"Pennsylvania\",\n",
    "\"Rhode Island\",\n",
    "\"Island\",\n",
    "\"South Carolina\",\n",
    "\"Carolina\",\n",
    "\"South Dakota\",\n",
    "\"Dakota\",\n",
    "\"Tennessee\",\n",
    "\"Texas\",\n",
    "\"Utah\",\n",
    "\"Vermont\",\n",
    "\"Virginia\",\n",
    "\"Washington\",\n",
    "\"West Virginia\",\n",
    "\"Wisconsin\",\n",
    "'Wisconson',\n",
    "\"Wyoming\",\n",
    "\"Wy\",\n",
    "\"States\",\n",
    "\"Dc\",\n",
    "\"D.C\",\n",
    "\"Ny\",\n",
    "\"Usa\",\n",
    "'Tennesee',\n",
    "'Deleware', \n",
    "'Massachutes',\n",
    "'Airzona']"
   ]
  },
  {
   "cell_type": "code",
   "execution_count": 281,
   "metadata": {},
   "outputs": [],
   "source": [
    "uk = ['Uk','England']"
   ]
  },
  {
   "cell_type": "code",
   "execution_count": 282,
   "metadata": {},
   "outputs": [],
   "source": [
    "df2.location = df2.location.apply(lambda x: \"USA\" if x in usa_states else x)"
   ]
  },
  {
   "cell_type": "code",
   "execution_count": 283,
   "metadata": {},
   "outputs": [],
   "source": [
    "df2.location = df2.location.apply(lambda x: \"UK\" if x in uk else x)"
   ]
  },
  {
   "cell_type": "code",
   "execution_count": 284,
   "metadata": {},
   "outputs": [],
   "source": [
    "df2.location = df2.location.apply(lambda x: \"Russia\" if x==\"Ussr\" else x)"
   ]
  },
  {
   "cell_type": "code",
   "execution_count": 285,
   "metadata": {},
   "outputs": [],
   "source": [
    "df2.location = df2.location.apply(lambda x: \"Mexico\" if x==\"Mexic\" else x)"
   ]
  },
  {
   "cell_type": "code",
   "execution_count": 286,
   "metadata": {},
   "outputs": [],
   "source": [
    "df2.location = df2.location.apply(lambda x: \"Australia\" if x==\"Australila\" else x)"
   ]
  },
  {
   "cell_type": "code",
   "execution_count": 287,
   "metadata": {},
   "outputs": [],
   "source": [
    "df2.drop(['route','operator'],inplace=True,axis=1)"
   ]
  },
  {
   "cell_type": "code",
   "execution_count": 288,
   "metadata": {},
   "outputs": [],
   "source": [
    "df2.to_csv(os.path.join(os.getcwd(),'data','airplane_crashes.csv'),index=False)"
   ]
  },
  {
   "cell_type": "markdown",
   "metadata": {},
   "source": [
    "### Carga de datos en MySQL"
   ]
  },
  {
   "cell_type": "code",
   "execution_count": 289,
   "metadata": {},
   "outputs": [],
   "source": [
    "from common.create_database import create_database\n",
    "from common.create_table import create_table\n",
    "from common.load_data import load_data"
   ]
  },
  {
   "cell_type": "code",
   "execution_count": 290,
   "metadata": {},
   "outputs": [
    {
     "name": "stdout",
     "output_type": "stream",
     "text": [
      "La base de datos ha sido creada\n"
     ]
    }
   ],
   "source": [
    "create_database('accidentes_aereos')"
   ]
  },
  {
   "cell_type": "code",
   "execution_count": 291,
   "metadata": {},
   "outputs": [],
   "source": [
    "variables_tabla = 'date VARCHAR(255),time INTEGER,location VARCHAR(255), all_aboard INTEGER, total_fatalities INTEGER, cause VARCHAR(255)'\n"
   ]
  },
  {
   "cell_type": "code",
   "execution_count": 292,
   "metadata": {},
   "outputs": [
    {
     "name": "stdout",
     "output_type": "stream",
     "text": [
      "Conectado a database:  ('accidentes_aereos',)\n",
      "Creando tabla....\n",
      "La tabla ha sido creada\n"
     ]
    }
   ],
   "source": [
    "create_table('accidentes_aereos','accidentes',variables_tabla)"
   ]
  },
  {
   "cell_type": "code",
   "execution_count": 293,
   "metadata": {},
   "outputs": [],
   "source": [
    "data_route = os.path.join(os.getcwd(),'data','airplane_crashes.csv')"
   ]
  },
  {
   "cell_type": "code",
   "execution_count": 294,
   "metadata": {},
   "outputs": [
    {
     "name": "stdout",
     "output_type": "stream",
     "text": [
      "Conectado a database:  ('accidentes_aereos',)\n",
      "Insertando datos...\n"
     ]
    }
   ],
   "source": [
    "load_data(data_route,'accidentes_aereos','accidentes')"
   ]
  }
 ],
 "metadata": {
  "kernelspec": {
   "display_name": "Python 3.11.0 64-bit",
   "language": "python",
   "name": "python3"
  },
  "language_info": {
   "codemirror_mode": {
    "name": "ipython",
    "version": 3
   },
   "file_extension": ".py",
   "mimetype": "text/x-python",
   "name": "python",
   "nbconvert_exporter": "python",
   "pygments_lexer": "ipython3",
   "version": "3.11.0"
  },
  "orig_nbformat": 4,
  "vscode": {
   "interpreter": {
    "hash": "aee8b7b246df8f9039afb4144a1f6fd8d2ca17a180786b69acc140d282b71a49"
   }
  }
 },
 "nbformat": 4,
 "nbformat_minor": 2
}
